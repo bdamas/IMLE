{
 "metadata": {
  "name": "",
  "signature": "sha256:26c452e630382b8857cc41390d9b287b94abd6016af13b6a12052ad855880ad3"
 },
 "nbformat": 3,
 "nbformat_minor": 0,
 "worksheets": [
  {
   "cells": [
    {
     "cell_type": "code",
     "collapsed": false,
     "input": [
      "%pylab inline"
     ],
     "language": "python",
     "metadata": {},
     "outputs": [
      {
       "output_type": "stream",
       "stream": "stdout",
       "text": [
        "Populating the interactive namespace from numpy and matplotlib\n"
       ]
      }
     ],
     "prompt_number": 1
    },
    {
     "cell_type": "code",
     "collapsed": false,
     "input": [
      "from explauto.environment import environments\n",
      "\n",
      "env_cls, env_configs, _ = environments['simple_arm']\n",
      "config = env_configs['default']\n",
      "\n",
      "simple_arm = env_cls(**config)\n",
      "\n",
      "xtest = simple_arm.uniform_sensor(n_cases=100)"
     ],
     "language": "python",
     "metadata": {},
     "outputs": [],
     "prompt_number": 2
    },
    {
     "cell_type": "code",
     "collapsed": false,
     "input": [
      "import sys\n",
      "\n",
      "sys.path.append('/Users/pierrerouanet/dev/imle/imlePython/')\n",
      "sys.path.append('/Users/pierrerouanet/dev/imle/build/lib')"
     ],
     "language": "python",
     "metadata": {},
     "outputs": [],
     "prompt_number": 3
    },
    {
     "cell_type": "code",
     "collapsed": false,
     "input": [
      "from imle import Imle"
     ],
     "language": "python",
     "metadata": {},
     "outputs": [],
     "prompt_number": 4
    },
    {
     "cell_type": "markdown",
     "metadata": {},
     "source": [
      "Should Psi0 be the squared noise?"
     ]
    },
    {
     "cell_type": "code",
     "collapsed": false,
     "input": [
      "d, D = simple_arm.conf.m_ndims, simple_arm.conf.s_ndims\n",
      "imle_obj = Imle(d, D, Psi0=[simple_arm.noise**2]*D, sigma0=simple_arm.conf.m_maxs[0]/40.)"
     ],
     "language": "python",
     "metadata": {},
     "outputs": [],
     "prompt_number": 5
    },
    {
     "cell_type": "code",
     "collapsed": false,
     "input": [
      "imle_obj.param"
     ],
     "language": "python",
     "metadata": {},
     "outputs": [
      {
       "metadata": {},
       "output_type": "pyout",
       "prompt_number": 6,
       "text": [
        "{'p0': 0.1, 'nSolMin': 1, 'nOutliers': 1, 'wPsi': 8.0, 'wLambda': 0.1, 'multiValuedSignificance': 0.99, 'wNu': 0.0, 'nSolMax': 16, 'accelerated': False, 'wsigma': 8.0, 'Psi0': array([ 0.0004,  0.0004]), 'wpsi': 4.0, 'iterMax': 2, 'alpha': 0.999, 'wSigma': 8.0, 'sigma0': 0.02617993877991494}"
       ]
      }
     ],
     "prompt_number": 6
    },
    {
     "cell_type": "code",
     "collapsed": false,
     "input": [
      "print imle_obj.update.__doc__"
     ],
     "language": "python",
     "metadata": {},
     "outputs": [
      {
       "output_type": "stream",
       "stream": "stdout",
       "text": [
        " Update the IMLE model with one (or more) training sample(s).\n",
        "\n",
        "        :param numpy.array z: z must be shaped as (d,) or (N, d)\n",
        "        :param numpy.array x: x must be shaped as (D,) or (N, D)\n",
        "\n",
        "        \n"
       ]
      }
     ],
     "prompt_number": 7
    },
    {
     "cell_type": "code",
     "collapsed": false,
     "input": [
      "NTRAIN = 1000\n",
      "\n",
      "error = []\n",
      "\n",
      "for i in range(NTRAIN):\n",
      "    m = simple_arm.random_motors()\n",
      "    ms = simple_arm.dataset(m)\n",
      "    \n",
      "    z = ms[:, :simple_arm.conf.m_ndims]\n",
      "    x = ms[:, -simple_arm.conf.s_ndims:]\n",
      "    \n",
      "    imle_obj.update(z, x)\n",
      "    \n",
      "    if i % 100 != 0:\n",
      "        continue\n",
      "    \n",
      "    e = []\n",
      "    for x in xtest:\n",
      "        pred_m = imle_obj.predict_inverse(x)\n",
      "        pred_x = simple_arm.update(pred_m[0])[-simple_arm.conf.s_ndims:]\n",
      "        e.append(norm(pred_x - x))\n",
      "\n",
      "    error.append(mean(e))"
     ],
     "language": "python",
     "metadata": {},
     "outputs": [],
     "prompt_number": 8
    },
    {
     "cell_type": "code",
     "collapsed": false,
     "input": [
      "imle_obj.number_of_experts"
     ],
     "language": "python",
     "metadata": {},
     "outputs": [
      {
       "metadata": {},
       "output_type": "pyout",
       "prompt_number": 9,
       "text": [
        "28"
       ]
      }
     ],
     "prompt_number": 9
    },
    {
     "cell_type": "code",
     "collapsed": false,
     "input": [
      "plot(error)"
     ],
     "language": "python",
     "metadata": {},
     "outputs": [
      {
       "metadata": {},
       "output_type": "pyout",
       "prompt_number": 10,
       "text": [
        "[<matplotlib.lines.Line2D at 0x114866150>]"
       ]
      },
      {
       "metadata": {},
       "output_type": "display_data",
       "png": "[encoded data removed]",
       "text": [
        "<matplotlib.figure.Figure at 0x114873250>"
       ]
      }
     ],
     "prompt_number": 10
    },
    {
     "cell_type": "code",
     "collapsed": false,
     "input": [
      "goal= [0.8, 0.4]\n",
      "\n",
      "ax = axes()\n",
      "for m in imle_obj.predict_inverse(goal):\n",
      "    simple_arm.plot_arm(ax, m)"
     ],
     "language": "python",
     "metadata": {},
     "outputs": [
      {
       "metadata": {},
       "output_type": "display_data",
       "png": "[encoded data removed]",
       "text": [
        "<matplotlib.figure.Figure at 0x114c7c810>"
       ]
      }
     ],
     "prompt_number": 11
    },
    {
     "cell_type": "code",
     "collapsed": false,
     "input": [],
     "language": "python",
     "metadata": {},
     "outputs": []
    }
   ],
   "metadata": {}
  }
 ]
}